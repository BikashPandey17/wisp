{
 "cells": [
  {
   "cell_type": "code",
   "execution_count": 2,
   "metadata": {},
   "outputs": [
    {
     "ename": "NameError",
     "evalue": "name 'dots_html' is not defined",
     "output_type": "error",
     "traceback": [
      "\u001b[0;31m---------------------------------------------------------------------------\u001b[0m",
      "\u001b[0;31mNameError\u001b[0m                                 Traceback (most recent call last)",
      "\u001b[0;32m<ipython-input-2-27600659e977>\u001b[0m in \u001b[0;36m<module>\u001b[0;34m\u001b[0m\n\u001b[1;32m     31\u001b[0m     \u001b[0;34m<\u001b[0m\u001b[0;34m/\u001b[0m\u001b[0mb\u001b[0m\u001b[0;34m>\u001b[0m\u001b[0;34m\u001b[0m\u001b[0;34m\u001b[0m\u001b[0m\n\u001b[1;32m     32\u001b[0m     \u001b[0;34m<\u001b[0m\u001b[0;34m/\u001b[0m\u001b[0mdiv\u001b[0m\u001b[0;34m>\u001b[0m\u001b[0;34m\u001b[0m\u001b[0;34m\u001b[0m\u001b[0m\n\u001b[0;32m---> 33\u001b[0;31m     \"\"\".format(str(dots_html),address,latitude,longitude,RADIUS,datetime.now().isoformat(timespec='seconds'))\n\u001b[0m",
      "\u001b[0;31mNameError\u001b[0m: name 'dots_html' is not defined"
     ]
    }
   ],
   "source": [
    "legend_html = \"\"\"\n",
    "    <center>\n",
    "    <h1 ><i style=\"color:#c6ae0d; font face=Verdana,Arial,Helvetica \"> WISP </i></h1> \n",
    "    </center>\n",
    "    <div style=\"position: fixed; \n",
    "    bottom: 50px; left: 50px;  \n",
    "    border:2px solid grey; z-index:9999; font-size:14px;\">&nbsp; \n",
    "    <b>Legend <b>\n",
    "    <br>{}\n",
    "    </div>\n",
    "    <div style=\"position: fixed; \n",
    "    bottom: 50px; right: 50px;  \n",
    "    z-index:9999; font-size:10px;\n",
    "    \"> \n",
    "    <b style=\"color:#f90404\" style=\"align: justified\">\n",
    "        WISP <br/> \n",
    "        version: 0.0.8-beta <br/>\n",
    "        &copyJimut Bahan Pal <br/> \n",
    "        Author : jimutbahanpal@yahoo.com \n",
    "    </b>\n",
    "    </div>\n",
    "    <div style=\"position: fixed; \n",
    "    top: 70px; left: 50px;  \n",
    "    z-index:9999; font-size:15px;\n",
    "    \"> \n",
    "    <b style=\"color:#16842c\" style=\"align: justified\">\n",
    "        Location: {} <br/>\n",
    "        Lat, Lon: {},{} <br/>\n",
    "        Radius: {} <br/>\n",
    "        Date: {} <br/>\n",
    "    </b>\n",
    "    </div> \n",
    "    \"\"\".format(str(dots_html),address,latitude,longitude,RADIUS,datetime.now().isoformat(timespec='seconds'))"
   ]
  },
  {
   "cell_type": "code",
   "execution_count": 3,
   "metadata": {},
   "outputs": [
    {
     "ename": "NameError",
     "evalue": "name 'pref_list' is not defined",
     "output_type": "error",
     "traceback": [
      "\u001b[0;31m---------------------------------------------------------------------------\u001b[0m",
      "\u001b[0;31mNameError\u001b[0m                                 Traceback (most recent call last)",
      "\u001b[0;32m<ipython-input-3-313286d30baf>\u001b[0m in \u001b[0;36m<module>\u001b[0;34m\u001b[0m\n\u001b[1;32m      1\u001b[0m \u001b[0mdots_html\u001b[0m \u001b[0;34m=\u001b[0m \u001b[0;34m\"\"\u001b[0m\u001b[0;34m\u001b[0m\u001b[0;34m\u001b[0m\u001b[0m\n\u001b[0;32m----> 2\u001b[0;31m \u001b[0;32mfor\u001b[0m \u001b[0mvar1\u001b[0m\u001b[0;34m,\u001b[0m \u001b[0mvar2\u001b[0m\u001b[0;34m,\u001b[0m \u001b[0mvar3\u001b[0m \u001b[0;32min\u001b[0m \u001b[0mzip\u001b[0m\u001b[0;34m(\u001b[0m\u001b[0mpref_list\u001b[0m\u001b[0;34m,\u001b[0m\u001b[0mcol_fill\u001b[0m\u001b[0;34m,\u001b[0m\u001b[0mcol_border\u001b[0m\u001b[0;34m)\u001b[0m\u001b[0;34m:\u001b[0m\u001b[0;34m\u001b[0m\u001b[0;34m\u001b[0m\u001b[0m\n\u001b[0m\u001b[1;32m      3\u001b[0m     dots_html = dots_html + \"\"\"\n\u001b[1;32m      4\u001b[0m     \u001b[0;34m&\u001b[0m\u001b[0mnbsp\u001b[0m\u001b[0;34m;\u001b[0m \u001b[0;34m{\u001b[0m\u001b[0;34m}\u001b[0m \u001b[0;34m&\u001b[0m\u001b[0mnbsp\u001b[0m\u001b[0;34m;\u001b[0m\u001b[0;34m\u001b[0m\u001b[0;34m\u001b[0m\u001b[0m\n\u001b[1;32m      5\u001b[0m     \u001b[0;34m<\u001b[0m\u001b[0msvg\u001b[0m \u001b[0mheight\u001b[0m\u001b[0;34m=\u001b[0m\u001b[0;34m\"10\"\u001b[0m \u001b[0mwidth\u001b[0m\u001b[0;34m=\u001b[0m\u001b[0;34m\"10\"\u001b[0m\u001b[0;34m>\u001b[0m\u001b[0;34m\u001b[0m\u001b[0;34m\u001b[0m\u001b[0m\n",
      "\u001b[0;31mNameError\u001b[0m: name 'pref_list' is not defined"
     ]
    }
   ],
   "source": [
    "dots_html = \"\"\n",
    "for var1, var2, var3 in zip(pref_list,col_fill,col_border):\n",
    "    dots_html = dots_html + \"\"\"\n",
    "    &nbsp; {} &nbsp;\n",
    "    <svg height=\"10\" width=\"10\">\n",
    "    <circle cx=\"5\" cy=\"5\" r=\"4\" stroke=\"{}\" stroke-width=\"3\" fill=\"{}\" />\n",
    "    </svg><br/> \"\"\".format(str(var1),str(var3),str(var2))"
   ]
  },
  {
   "cell_type": "code",
   "execution_count": null,
   "metadata": {},
   "outputs": [],
   "source": []
  }
 ],
 "metadata": {
  "kernelspec": {
   "display_name": "Python 3",
   "language": "python",
   "name": "python3"
  },
  "language_info": {
   "codemirror_mode": {
    "name": "ipython",
    "version": 3
   },
   "file_extension": ".py",
   "mimetype": "text/x-python",
   "name": "python",
   "nbconvert_exporter": "python",
   "pygments_lexer": "ipython3",
   "version": "3.7.4"
  }
 },
 "nbformat": 4,
 "nbformat_minor": 2
}
